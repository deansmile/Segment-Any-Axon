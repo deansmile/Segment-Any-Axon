{
 "cells": [
  {
   "cell_type": "markdown",
   "id": "1d3b39ed9e239bce",
   "metadata": {},
   "source": [
    "The following is an adaptation from micro-sam/examples/finetuning/finetune_hela.py. You can also directly run the file, though you might first have to modify the paths there. Please extract data.zip before proceeding."
   ]
  },
  {
   "cell_type": "code",
   "execution_count": 1,
   "id": "14b90b08abb99f1b",
   "metadata": {
    "ExecuteTime": {
     "end_time": "2024-04-23T09:21:57.941470Z",
     "start_time": "2024-04-23T09:21:56.485138Z"
    }
   },
   "outputs": [
    {
     "name": "stderr",
     "output_type": "stream",
     "text": [
      "2024-04-24 09:47:54.363200: I tensorflow/core/platform/cpu_feature_guard.cc:210] This TensorFlow binary is optimized to use available CPU instructions in performance-critical operations.\n",
      "To enable the following instructions: AVX2 FMA, in other operations, rebuild TensorFlow with the appropriate compiler flags.\n",
      "2024-04-24 09:47:55.040665: W tensorflow/compiler/tf2tensorrt/utils/py_utils.cc:38] TF-TRT Warning: Could not find TensorRT\n"
     ]
    }
   ],
   "source": [
    "import os\n",
    "from pathlib import Path\n",
    "import numpy as np\n",
    "\n",
    "import torch\n",
    "\n",
    "import torch_em\n",
    "from torch_em.model import UNETR\n",
    "from torch_em.loss import DiceBasedDistanceLoss\n",
    "from torch_em.transform.label import PerObjectDistanceTransform\n",
    "\n",
    "import micro_sam.training as sam_training\n",
    "from micro_sam.util import export_custom_sam_model\n",
    "from micro_sam.sample_data import fetch_tracking_example_data, fetch_tracking_segmentation_data\n",
    "\n",
    "data_path = Path().absolute().joinpath('data')\n"
   ]
  },
  {
   "cell_type": "code",
   "execution_count": null,
   "id": "3607ab31adc86e27",
   "metadata": {},
   "outputs": [],
   "source": [
    "def get_dataloader(split, patch_shape, batch_size, train_instance_segmentation):\n",
    "    \"\"\"Return train or val data loader for finetuning SAM.\n",
    "\n",
    "    The data loader must be a torch data loader that retuns `x, y` tensors,\n",
    "    where `x` is the image data and `y` are the labels.\n",
    "    The labels have to be in a label mask instance segmentation format.\n",
    "    I.e. a tensor of the same spatial shape as `x`, with each object mask having its own ID.\n",
    "    Important: the ID 0 is reseved for background, and the IDs must be consecutive\n",
    "\n",
    "    Here, we use `torch_em.default_segmentation_loader` for creating a suitable data loader from\n",
    "    the example hela data. You can either adapt this for your own data (see comments below)\n",
    "    or write a suitable torch dataloader yourself.\n",
    "    \"\"\"\n",
    "    assert split in (\"train\", \"val\")\n",
    "    # os.makedirs(DATA_FOLDER, exist_ok=True)\n",
    "\n",
    "    # This will download the image and segmentation data for training.\n",
    "    image_dir = str(data_path.joinpath('image_tif'))\n",
    "    segmentation_dir = str(data_path.joinpath('mask_tif'))\n",
    "\n",
    "    # torch_em.default_segmentation_loader is a convenience function to build a torch dataloader\n",
    "    # from image data and labels for training segmentation models.\n",
    "    # It supports image data in various formats. Here, we load image data and labels from the two\n",
    "    # folders with tif images that were downloaded by the example data functionality, by specifying\n",
    "    # `raw_key` and `label_key` as `*.tif`. This means all images in the respective folders that end with\n",
    "    # .tif will be loadded.\n",
    "    # The function supports many other file formats. For example, if you have tif stacks with multiple slices\n",
    "    # instead of multiple tif images in a foldder, then you can pass raw_key=label_key=None.\n",
    "\n",
    "    # Load images from multiple files in folder via pattern (here: all tif files)\n",
    "    raw_key, label_key = \"*.tif\", \"*.tif\"\n",
    "    # Alternative: if you have tif stacks you can just set raw_key and label_key to None\n",
    "    # raw_key, label_key= None, None\n",
    "\n",
    "    # The 'roi' argument can be used to subselect parts of the data.\n",
    "    # Here, we use it to select the first 70 frames for the train split and the other frames for the val split.\n",
    "    if split == \"train\":\n",
    "        roi = np.s_[:150, :, :]\n",
    "    else:\n",
    "        roi = np.s_[150:, :, :]\n",
    "\n",
    "    if train_instance_segmentation:\n",
    "        # Computes the distance transform for objects to perform end-to-end automatic instance segmentation.\n",
    "        label_transform = PerObjectDistanceTransform(\n",
    "            distances=True, boundary_distances=True, directed_distances=False,\n",
    "            foreground=True, instances=True, min_size=25\n",
    "        )\n",
    "    else:\n",
    "        label_transform = torch_em.transform.label.connected_components\n",
    "\n",
    "    loader = torch_em.default_segmentation_loader(\n",
    "        raw_paths=image_dir, raw_key=raw_key,\n",
    "        label_paths=segmentation_dir, label_key=label_key,\n",
    "        patch_shape=patch_shape, batch_size=batch_size,\n",
    "        ndim=2, is_seg_dataset=True, rois=roi,\n",
    "        label_transform=label_transform,\n",
    "        num_workers=2, shuffle=True, raw_transform=sam_training.identity,\n",
    "    )\n",
    "    return loader\n"
   ]
  },
  {
   "cell_type": "code",
   "execution_count": null,
   "id": "47bec4d8699bed5e",
   "metadata": {},
   "outputs": [],
   "source": [
    "def run_training(checkpoint_name, model_type, train_instance_segmentation=True):\n",
    "    \"\"\"Run the actual model training.\"\"\"\n",
    "\n",
    "    # All hyperparameters for training.\n",
    "    batch_size = 1  # the training batch size\n",
    "    patch_shape = (1, 256, 256)  # the size of patches for training\n",
    "    n_objects_per_batch = 10  # the number of objects per batch that will be sampled\n",
    "    device = torch.device(\"cuda\")  # the device/GPU used for training\n",
    "    n_iterations = 10  # how long we train (in iterations)\n",
    "\n",
    "    # Get the dataloaders.\n",
    "    train_loader = get_dataloader(\"train\", patch_shape, batch_size, train_instance_segmentation)\n",
    "    val_loader = get_dataloader(\"val\", patch_shape, batch_size, train_instance_segmentation)\n",
    "\n",
    "    # Get the segment anything model\n",
    "    model = sam_training.get_trainable_sam_model(model_type=model_type, device=device)\n",
    "\n",
    "    # This class creates all the training data for a batch (inputs, prompts and labels).\n",
    "    convert_inputs = sam_training.ConvertToSamInputs(transform=model.transform, box_distortion_factor=0.025)\n",
    "\n",
    "    # Get the optimizer and the LR scheduler\n",
    "    if train_instance_segmentation:\n",
    "        # for instance segmentation, we use the UNETR model configuration.\n",
    "        unetr = UNETR(\n",
    "            backbone=\"sam\", encoder=model.sam.image_encoder, out_channels=3, use_sam_stats=True,\n",
    "            final_activation=\"Sigmoid\", use_skip_connection=False, resize_input=True,\n",
    "        )\n",
    "        # let's get the parameters for SAM and the decoder from UNETR\n",
    "        joint_model_params = [params for params in model.parameters()]  # sam parameters\n",
    "        for name, params in unetr.named_parameters():  # unetr's decoder parameters\n",
    "            if not name.startswith(\"encoder\"):\n",
    "                joint_model_params.append(params)\n",
    "        unetr.to(device)\n",
    "        optimizer = torch.optim.Adam(joint_model_params, lr=1e-5)\n",
    "    else:\n",
    "        optimizer = torch.optim.Adam(model.parameters(), lr=1e-5)\n",
    "\n",
    "    scheduler = torch.optim.lr_scheduler.ReduceLROnPlateau(optimizer, mode=\"min\", factor=0.9, patience=10, verbose=True)\n",
    "\n",
    "    # the trainer which performs training and validation (implemented using \"torch_em\")\n",
    "    if train_instance_segmentation:\n",
    "        instance_seg_loss = DiceBasedDistanceLoss(mask_distances_in_bg=True)\n",
    "        trainer = sam_training.JointSamTrainer(\n",
    "            name=checkpoint_name, train_loader=train_loader, val_loader=val_loader, model=model,\n",
    "            optimizer=optimizer, device=device, lr_scheduler=scheduler, logger=sam_training.JointSamLogger,\n",
    "            log_image_interval=100, mixed_precision=True, convert_inputs=convert_inputs,\n",
    "            n_objects_per_batch=n_objects_per_batch, n_sub_iteration=8, compile_model=False, unetr=unetr,\n",
    "            instance_loss=instance_seg_loss, instance_metric=instance_seg_loss\n",
    "        )\n",
    "    else:\n",
    "        trainer = sam_training.SamTrainer(\n",
    "            name=checkpoint_name, train_loader=train_loader, val_loader=val_loader, model=model,\n",
    "            optimizer=optimizer, device=device, lr_scheduler=scheduler, logger=sam_training.SamLogger,\n",
    "            log_image_interval=100, mixed_precision=True, convert_inputs=convert_inputs,\n",
    "            n_objects_per_batch=n_objects_per_batch, n_sub_iteration=8, compile_model=False\n",
    "        )\n",
    "    trainer.fit(n_iterations)\n"
   ]
  },
  {
   "cell_type": "code",
   "execution_count": null,
   "id": "70e8941e5d367f57",
   "metadata": {},
   "outputs": [],
   "source": [
    "def export_model(checkpoint_name, model_type):\n",
    "    \"\"\"Export the trained model.\"\"\"\n",
    "    # export the model after training so that it can be used by the rest of the micro_sam library\n",
    "    export_folder = Path().absolute().joinpath(\"micro-sam\", \"examples\", \"finetuning\")\n",
    "    export_path = export_folder.joinpath(\"finetuned_hela_model1.pth\")\n",
    "    checkpoint_path = export_folder.joinpath(\"checkpoints\", checkpoint_name, \"best.pt\")\n",
    "    export_custom_sam_model(\n",
    "        checkpoint_path=checkpoint_path,\n",
    "        model_type=model_type,\n",
    "        save_path=export_path,\n",
    "    )"
   ]
  },
  {
   "cell_type": "code",
   "execution_count": 1,
   "id": "62d0483ce64515c6",
   "metadata": {
    "ExecuteTime": {
     "end_time": "2024-04-21T19:26:14.058478Z",
     "start_time": "2024-04-21T19:26:14.052035Z"
    }
   },
   "outputs": [],
   "source": [
    "def main():\n",
    "    \"\"\"Finetune a Segment Anything model.\n",
    "\n",
    "    This example uses image data and segmentations from the cell tracking challenge,\n",
    "    but can easily be adapted for other data (including data you have annoated with micro_sam beforehand).\n",
    "    \"\"\"\n",
    "    # The model_type determines which base model is used to initialize the weights that are finetuned.\n",
    "    # We use vit_b here because it can be trained faster. Note that vit_h usually yields higher quality results.\n",
    "    model_type = \"vit_b\"\n",
    "\n",
    "    # The name of the checkpoint. The checkpoints will be stored in './checkpoints/<checkpoint_name>'\n",
    "    checkpoint_name = \"sam_hela\"\n",
    "\n",
    "    # Train an additional convolutional decoder for end-to-end automatic instance segmentation\n",
    "    train_instance_segmentation = True\n",
    "\n",
    "    run_training(checkpoint_name, model_type, train_instance_segmentation)\n",
    "    export_model(checkpoint_name, model_type)\n"
   ]
  },
  {
   "cell_type": "code",
   "execution_count": null,
   "id": "30aecd19a49c986f",
   "metadata": {},
   "outputs": [],
   "source": [
    "main()"
   ]
  }
 ],
 "metadata": {
  "kernelspec": {
   "display_name": "Python 3 (ipykernel)",
   "language": "python",
   "name": "python3"
  },
  "language_info": {
   "codemirror_mode": {
    "name": "ipython",
    "version": 3
   },
   "file_extension": ".py",
   "mimetype": "text/x-python",
   "name": "python",
   "nbconvert_exporter": "python",
   "pygments_lexer": "ipython3",
   "version": "3.10.13"
  }
 },
 "nbformat": 4,
 "nbformat_minor": 5
}
